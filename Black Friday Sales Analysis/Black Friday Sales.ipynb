{
 "cells": [
  {
   "cell_type": "markdown",
   "id": "b4c73ddb",
   "metadata": {},
   "source": [
    "## Black Friday Sales"
   ]
  },
  {
   "cell_type": "markdown",
   "id": "63309c21",
   "metadata": {},
   "source": [
    "#### Import Libraries"
   ]
  },
  {
   "cell_type": "code",
   "execution_count": 1,
   "id": "9c83e208",
   "metadata": {},
   "outputs": [],
   "source": [
    "import numpy as np\n",
    "import pandas as pd\n",
    "import matplotlib.pyplot as plt\n",
    "import seaborn as sns\n",
    "from scipy import stats"
   ]
  },
  {
   "cell_type": "markdown",
   "id": "77d4be10",
   "metadata": {},
   "source": [
    "#### Create a dataframe"
   ]
  },
  {
   "cell_type": "code",
   "execution_count": 2,
   "id": "617d49f3",
   "metadata": {},
   "outputs": [],
   "source": [
    "df = pd.read_csv(r\"D:\\Data Analytics\\Projects\\Black Friday Sales\\train.csv\")"
   ]
  },
  {
   "cell_type": "markdown",
   "id": "c9152068",
   "metadata": {},
   "source": [
    "# Task 1: Data Exploration and Cleaning"
   ]
  },
  {
   "cell_type": "code",
   "execution_count": 3,
   "id": "7f3d4b23",
   "metadata": {},
   "outputs": [
    {
     "data": {
      "text/html": [
       "<div>\n",
       "<style scoped>\n",
       "    .dataframe tbody tr th:only-of-type {\n",
       "        vertical-align: middle;\n",
       "    }\n",
       "\n",
       "    .dataframe tbody tr th {\n",
       "        vertical-align: top;\n",
       "    }\n",
       "\n",
       "    .dataframe thead th {\n",
       "        text-align: right;\n",
       "    }\n",
       "</style>\n",
       "<table border=\"1\" class=\"dataframe\">\n",
       "  <thead>\n",
       "    <tr style=\"text-align: right;\">\n",
       "      <th></th>\n",
       "      <th>User_ID</th>\n",
       "      <th>Product_ID</th>\n",
       "      <th>Gender</th>\n",
       "      <th>Age</th>\n",
       "      <th>Occupation</th>\n",
       "      <th>City_Category</th>\n",
       "      <th>Stay_In_Current_City_Years</th>\n",
       "      <th>Marital_Status</th>\n",
       "      <th>Product_Category_1</th>\n",
       "      <th>Product_Category_2</th>\n",
       "      <th>Product_Category_3</th>\n",
       "      <th>Purchase</th>\n",
       "    </tr>\n",
       "  </thead>\n",
       "  <tbody>\n",
       "    <tr>\n",
       "      <th>0</th>\n",
       "      <td>1000001</td>\n",
       "      <td>P00069042</td>\n",
       "      <td>F</td>\n",
       "      <td>0-17</td>\n",
       "      <td>10</td>\n",
       "      <td>A</td>\n",
       "      <td>2</td>\n",
       "      <td>0</td>\n",
       "      <td>3</td>\n",
       "      <td>NaN</td>\n",
       "      <td>NaN</td>\n",
       "      <td>8370</td>\n",
       "    </tr>\n",
       "    <tr>\n",
       "      <th>1</th>\n",
       "      <td>1000001</td>\n",
       "      <td>P00248942</td>\n",
       "      <td>F</td>\n",
       "      <td>0-17</td>\n",
       "      <td>10</td>\n",
       "      <td>A</td>\n",
       "      <td>2</td>\n",
       "      <td>0</td>\n",
       "      <td>1</td>\n",
       "      <td>6.0</td>\n",
       "      <td>14.0</td>\n",
       "      <td>15200</td>\n",
       "    </tr>\n",
       "    <tr>\n",
       "      <th>2</th>\n",
       "      <td>1000001</td>\n",
       "      <td>P00087842</td>\n",
       "      <td>F</td>\n",
       "      <td>0-17</td>\n",
       "      <td>10</td>\n",
       "      <td>A</td>\n",
       "      <td>2</td>\n",
       "      <td>0</td>\n",
       "      <td>12</td>\n",
       "      <td>NaN</td>\n",
       "      <td>NaN</td>\n",
       "      <td>1422</td>\n",
       "    </tr>\n",
       "    <tr>\n",
       "      <th>3</th>\n",
       "      <td>1000001</td>\n",
       "      <td>P00085442</td>\n",
       "      <td>F</td>\n",
       "      <td>0-17</td>\n",
       "      <td>10</td>\n",
       "      <td>A</td>\n",
       "      <td>2</td>\n",
       "      <td>0</td>\n",
       "      <td>12</td>\n",
       "      <td>14.0</td>\n",
       "      <td>NaN</td>\n",
       "      <td>1057</td>\n",
       "    </tr>\n",
       "    <tr>\n",
       "      <th>4</th>\n",
       "      <td>1000002</td>\n",
       "      <td>P00285442</td>\n",
       "      <td>M</td>\n",
       "      <td>55+</td>\n",
       "      <td>16</td>\n",
       "      <td>C</td>\n",
       "      <td>4+</td>\n",
       "      <td>0</td>\n",
       "      <td>8</td>\n",
       "      <td>NaN</td>\n",
       "      <td>NaN</td>\n",
       "      <td>7969</td>\n",
       "    </tr>\n",
       "  </tbody>\n",
       "</table>\n",
       "</div>"
      ],
      "text/plain": [
       "   User_ID Product_ID Gender   Age  Occupation City_Category  \\\n",
       "0  1000001  P00069042      F  0-17          10             A   \n",
       "1  1000001  P00248942      F  0-17          10             A   \n",
       "2  1000001  P00087842      F  0-17          10             A   \n",
       "3  1000001  P00085442      F  0-17          10             A   \n",
       "4  1000002  P00285442      M   55+          16             C   \n",
       "\n",
       "  Stay_In_Current_City_Years  Marital_Status  Product_Category_1  \\\n",
       "0                          2               0                   3   \n",
       "1                          2               0                   1   \n",
       "2                          2               0                  12   \n",
       "3                          2               0                  12   \n",
       "4                         4+               0                   8   \n",
       "\n",
       "   Product_Category_2  Product_Category_3  Purchase  \n",
       "0                 NaN                 NaN      8370  \n",
       "1                 6.0                14.0     15200  \n",
       "2                 NaN                 NaN      1422  \n",
       "3                14.0                 NaN      1057  \n",
       "4                 NaN                 NaN      7969  "
      ]
     },
     "execution_count": 3,
     "metadata": {},
     "output_type": "execute_result"
    }
   ],
   "source": [
    "df.head()"
   ]
  },
  {
   "cell_type": "code",
   "execution_count": 4,
   "id": "1e4c8efe",
   "metadata": {},
   "outputs": [
    {
     "name": "stdout",
     "output_type": "stream",
     "text": [
      "<class 'pandas.core.frame.DataFrame'>\n",
      "RangeIndex: 550068 entries, 0 to 550067\n",
      "Data columns (total 12 columns):\n",
      " #   Column                      Non-Null Count   Dtype  \n",
      "---  ------                      --------------   -----  \n",
      " 0   User_ID                     550068 non-null  int64  \n",
      " 1   Product_ID                  550068 non-null  object \n",
      " 2   Gender                      550068 non-null  object \n",
      " 3   Age                         550068 non-null  object \n",
      " 4   Occupation                  550068 non-null  int64  \n",
      " 5   City_Category               550068 non-null  object \n",
      " 6   Stay_In_Current_City_Years  550068 non-null  object \n",
      " 7   Marital_Status              550068 non-null  int64  \n",
      " 8   Product_Category_1          550068 non-null  int64  \n",
      " 9   Product_Category_2          376430 non-null  float64\n",
      " 10  Product_Category_3          166821 non-null  float64\n",
      " 11  Purchase                    550068 non-null  int64  \n",
      "dtypes: float64(2), int64(5), object(5)\n",
      "memory usage: 50.4+ MB\n"
     ]
    }
   ],
   "source": [
    "df.info()"
   ]
  },
  {
   "cell_type": "code",
   "execution_count": 5,
   "id": "7b5e0fa8",
   "metadata": {},
   "outputs": [
    {
     "data": {
      "text/html": [
       "<div>\n",
       "<style scoped>\n",
       "    .dataframe tbody tr th:only-of-type {\n",
       "        vertical-align: middle;\n",
       "    }\n",
       "\n",
       "    .dataframe tbody tr th {\n",
       "        vertical-align: top;\n",
       "    }\n",
       "\n",
       "    .dataframe thead th {\n",
       "        text-align: right;\n",
       "    }\n",
       "</style>\n",
       "<table border=\"1\" class=\"dataframe\">\n",
       "  <thead>\n",
       "    <tr style=\"text-align: right;\">\n",
       "      <th></th>\n",
       "      <th>User_ID</th>\n",
       "      <th>Occupation</th>\n",
       "      <th>Marital_Status</th>\n",
       "      <th>Product_Category_1</th>\n",
       "      <th>Product_Category_2</th>\n",
       "      <th>Product_Category_3</th>\n",
       "      <th>Purchase</th>\n",
       "    </tr>\n",
       "  </thead>\n",
       "  <tbody>\n",
       "    <tr>\n",
       "      <th>count</th>\n",
       "      <td>5.500680e+05</td>\n",
       "      <td>550068.000000</td>\n",
       "      <td>550068.000000</td>\n",
       "      <td>550068.000000</td>\n",
       "      <td>376430.000000</td>\n",
       "      <td>166821.000000</td>\n",
       "      <td>550068.000000</td>\n",
       "    </tr>\n",
       "    <tr>\n",
       "      <th>mean</th>\n",
       "      <td>1.003029e+06</td>\n",
       "      <td>8.076707</td>\n",
       "      <td>0.409653</td>\n",
       "      <td>5.404270</td>\n",
       "      <td>9.842329</td>\n",
       "      <td>12.668243</td>\n",
       "      <td>9263.968713</td>\n",
       "    </tr>\n",
       "    <tr>\n",
       "      <th>std</th>\n",
       "      <td>1.727592e+03</td>\n",
       "      <td>6.522660</td>\n",
       "      <td>0.491770</td>\n",
       "      <td>3.936211</td>\n",
       "      <td>5.086590</td>\n",
       "      <td>4.125338</td>\n",
       "      <td>5023.065394</td>\n",
       "    </tr>\n",
       "    <tr>\n",
       "      <th>min</th>\n",
       "      <td>1.000001e+06</td>\n",
       "      <td>0.000000</td>\n",
       "      <td>0.000000</td>\n",
       "      <td>1.000000</td>\n",
       "      <td>2.000000</td>\n",
       "      <td>3.000000</td>\n",
       "      <td>12.000000</td>\n",
       "    </tr>\n",
       "    <tr>\n",
       "      <th>25%</th>\n",
       "      <td>1.001516e+06</td>\n",
       "      <td>2.000000</td>\n",
       "      <td>0.000000</td>\n",
       "      <td>1.000000</td>\n",
       "      <td>5.000000</td>\n",
       "      <td>9.000000</td>\n",
       "      <td>5823.000000</td>\n",
       "    </tr>\n",
       "    <tr>\n",
       "      <th>50%</th>\n",
       "      <td>1.003077e+06</td>\n",
       "      <td>7.000000</td>\n",
       "      <td>0.000000</td>\n",
       "      <td>5.000000</td>\n",
       "      <td>9.000000</td>\n",
       "      <td>14.000000</td>\n",
       "      <td>8047.000000</td>\n",
       "    </tr>\n",
       "    <tr>\n",
       "      <th>75%</th>\n",
       "      <td>1.004478e+06</td>\n",
       "      <td>14.000000</td>\n",
       "      <td>1.000000</td>\n",
       "      <td>8.000000</td>\n",
       "      <td>15.000000</td>\n",
       "      <td>16.000000</td>\n",
       "      <td>12054.000000</td>\n",
       "    </tr>\n",
       "    <tr>\n",
       "      <th>max</th>\n",
       "      <td>1.006040e+06</td>\n",
       "      <td>20.000000</td>\n",
       "      <td>1.000000</td>\n",
       "      <td>20.000000</td>\n",
       "      <td>18.000000</td>\n",
       "      <td>18.000000</td>\n",
       "      <td>23961.000000</td>\n",
       "    </tr>\n",
       "  </tbody>\n",
       "</table>\n",
       "</div>"
      ],
      "text/plain": [
       "            User_ID     Occupation  Marital_Status  Product_Category_1  \\\n",
       "count  5.500680e+05  550068.000000   550068.000000       550068.000000   \n",
       "mean   1.003029e+06       8.076707        0.409653            5.404270   \n",
       "std    1.727592e+03       6.522660        0.491770            3.936211   \n",
       "min    1.000001e+06       0.000000        0.000000            1.000000   \n",
       "25%    1.001516e+06       2.000000        0.000000            1.000000   \n",
       "50%    1.003077e+06       7.000000        0.000000            5.000000   \n",
       "75%    1.004478e+06      14.000000        1.000000            8.000000   \n",
       "max    1.006040e+06      20.000000        1.000000           20.000000   \n",
       "\n",
       "       Product_Category_2  Product_Category_3       Purchase  \n",
       "count       376430.000000       166821.000000  550068.000000  \n",
       "mean             9.842329           12.668243    9263.968713  \n",
       "std              5.086590            4.125338    5023.065394  \n",
       "min              2.000000            3.000000      12.000000  \n",
       "25%              5.000000            9.000000    5823.000000  \n",
       "50%              9.000000           14.000000    8047.000000  \n",
       "75%             15.000000           16.000000   12054.000000  \n",
       "max             18.000000           18.000000   23961.000000  "
      ]
     },
     "execution_count": 5,
     "metadata": {},
     "output_type": "execute_result"
    }
   ],
   "source": [
    "df.describe()"
   ]
  },
  {
   "cell_type": "code",
   "execution_count": 6,
   "id": "51694c08",
   "metadata": {},
   "outputs": [
    {
     "data": {
      "text/plain": [
       "User_ID                            0\n",
       "Product_ID                         0\n",
       "Gender                             0\n",
       "Age                                0\n",
       "Occupation                         0\n",
       "City_Category                      0\n",
       "Stay_In_Current_City_Years         0\n",
       "Marital_Status                     0\n",
       "Product_Category_1                 0\n",
       "Product_Category_2            173638\n",
       "Product_Category_3            383247\n",
       "Purchase                           0\n",
       "dtype: int64"
      ]
     },
     "execution_count": 6,
     "metadata": {},
     "output_type": "execute_result"
    }
   ],
   "source": [
    "# Check if there is any null value in the data\n",
    "df.isna().sum()"
   ]
  },
  {
   "cell_type": "code",
   "execution_count": 7,
   "id": "735e5f97",
   "metadata": {},
   "outputs": [],
   "source": [
    "# Mode of Product_Category_2\n",
    "mode_pd2 = df[\"Product_Category_2\"].mode()[0]  # Extracting the mode value\n",
    "\n",
    "# Fill the null values in \"Product_Category_2\" with the mode value of \"Product_Category_2\"\n",
    "df[\"Product_Category_2\"].fillna(mode_pd2, inplace=True)"
   ]
  },
  {
   "cell_type": "code",
   "execution_count": 8,
   "id": "4fe6aa7e",
   "metadata": {},
   "outputs": [],
   "source": [
    "# Mode of Product_Category_3\n",
    "mode_pd3 = df[\"Product_Category_3\"].mode()[0]\n",
    "\n",
    "# Fill the null values in \"Product_Category_3\" with the mode value of \"Product_Category_3\"\n",
    "df[\"Product_Category_3\"].fillna(mode_pd3 ,inplace=True)"
   ]
  },
  {
   "cell_type": "code",
   "execution_count": 9,
   "id": "76b274bc",
   "metadata": {},
   "outputs": [
    {
     "data": {
      "text/plain": [
       "User_ID                       0\n",
       "Product_ID                    0\n",
       "Gender                        0\n",
       "Age                           0\n",
       "Occupation                    0\n",
       "City_Category                 0\n",
       "Stay_In_Current_City_Years    0\n",
       "Marital_Status                0\n",
       "Product_Category_1            0\n",
       "Product_Category_2            0\n",
       "Product_Category_3            0\n",
       "Purchase                      0\n",
       "dtype: int64"
      ]
     },
     "execution_count": 9,
     "metadata": {},
     "output_type": "execute_result"
    }
   ],
   "source": [
    "df.isna().sum()"
   ]
  },
  {
   "cell_type": "code",
   "execution_count": 10,
   "id": "91e01cbc",
   "metadata": {},
   "outputs": [
    {
     "data": {
      "text/plain": [
       "array([ 8.,  6., 14.,  2., 15., 16., 11.,  5.,  3.,  4., 12.,  9., 10.,\n",
       "       17., 13.,  7., 18.])"
      ]
     },
     "execution_count": 10,
     "metadata": {},
     "output_type": "execute_result"
    }
   ],
   "source": [
    "df['Product_Category_2'].unique()"
   ]
  },
  {
   "cell_type": "markdown",
   "id": "bfd3f644",
   "metadata": {},
   "source": [
    "# Task 2:Data Analysis & Data Visualization"
   ]
  },
  {
   "cell_type": "code",
   "execution_count": 11,
   "id": "a015db61",
   "metadata": {},
   "outputs": [
    {
     "data": {
      "image/png": "[encoded data removed]",
      "text/plain": [
       "<Figure size 1000x500 with 1 Axes>"
      ]
     },
     "metadata": {},
     "output_type": "display_data"
    }
   ],
   "source": [
    "# Visualize purchase distribution with histogram\n",
    "plt.figure(figsize=(10, 5))\n",
    "sns.histplot(df[\"Purchase\"], bins=15)\n",
    "plt.title(\"Puchase Distribution\")\n",
    "plt.xlabel(\"Purchase Amount\")\n",
    "plt.ylabel(\"Frequency\")\n",
    "plt.show()"
   ]
  },
  {
   "cell_type": "code",
   "execution_count": 12,
   "id": "ee663266",
   "metadata": {},
   "outputs": [
    {
     "data": {
      "image/png": "[encoded data removed]",
      "text/plain": [
       "<Figure size 640x480 with 1 Axes>"
      ]
     },
     "metadata": {},
     "output_type": "display_data"
    }
   ],
   "source": [
    "# Visualize purchase distribution with boxplot\n",
    "sns.boxplot(x=df[\"Purchase\"])\n",
    "plt.title(\"Puchase Boxplot\")\n",
    "plt.show()"
   ]
  },
  {
   "cell_type": "markdown",
   "id": "c141e46a",
   "metadata": {},
   "source": [
    "#### Outlier Analysis Using Z-Score"
   ]
  },
  {
   "cell_type": "code",
   "execution_count": 13,
   "id": "4d40e5e4",
   "metadata": {},
   "outputs": [
    {
     "data": {
      "text/html": [
       "<div>\n",
       "<style scoped>\n",
       "    .dataframe tbody tr th:only-of-type {\n",
       "        vertical-align: middle;\n",
       "    }\n",
       "\n",
       "    .dataframe tbody tr th {\n",
       "        vertical-align: top;\n",
       "    }\n",
       "\n",
       "    .dataframe thead th {\n",
       "        text-align: right;\n",
       "    }\n",
       "</style>\n",
       "<table border=\"1\" class=\"dataframe\">\n",
       "  <thead>\n",
       "    <tr style=\"text-align: right;\">\n",
       "      <th></th>\n",
       "      <th>User_ID</th>\n",
       "      <th>Product_ID</th>\n",
       "      <th>Gender</th>\n",
       "      <th>Age</th>\n",
       "      <th>Occupation</th>\n",
       "      <th>City_Category</th>\n",
       "      <th>Stay_In_Current_City_Years</th>\n",
       "      <th>Marital_Status</th>\n",
       "      <th>Product_Category_1</th>\n",
       "      <th>Product_Category_2</th>\n",
       "      <th>Product_Category_3</th>\n",
       "      <th>Purchase</th>\n",
       "      <th>z-score</th>\n",
       "    </tr>\n",
       "  </thead>\n",
       "  <tbody>\n",
       "    <tr>\n",
       "      <th>0</th>\n",
       "      <td>1000001</td>\n",
       "      <td>P00069042</td>\n",
       "      <td>F</td>\n",
       "      <td>0-17</td>\n",
       "      <td>10</td>\n",
       "      <td>A</td>\n",
       "      <td>2</td>\n",
       "      <td>0</td>\n",
       "      <td>3</td>\n",
       "      <td>8.0</td>\n",
       "      <td>16.0</td>\n",
       "      <td>8370</td>\n",
       "      <td>-0.177973</td>\n",
       "    </tr>\n",
       "    <tr>\n",
       "      <th>1</th>\n",
       "      <td>1000001</td>\n",
       "      <td>P00248942</td>\n",
       "      <td>F</td>\n",
       "      <td>0-17</td>\n",
       "      <td>10</td>\n",
       "      <td>A</td>\n",
       "      <td>2</td>\n",
       "      <td>0</td>\n",
       "      <td>1</td>\n",
       "      <td>6.0</td>\n",
       "      <td>14.0</td>\n",
       "      <td>15200</td>\n",
       "      <td>1.181756</td>\n",
       "    </tr>\n",
       "    <tr>\n",
       "      <th>2</th>\n",
       "      <td>1000001</td>\n",
       "      <td>P00087842</td>\n",
       "      <td>F</td>\n",
       "      <td>0-17</td>\n",
       "      <td>10</td>\n",
       "      <td>A</td>\n",
       "      <td>2</td>\n",
       "      <td>0</td>\n",
       "      <td>12</td>\n",
       "      <td>8.0</td>\n",
       "      <td>16.0</td>\n",
       "      <td>1422</td>\n",
       "      <td>-1.561193</td>\n",
       "    </tr>\n",
       "    <tr>\n",
       "      <th>3</th>\n",
       "      <td>1000001</td>\n",
       "      <td>P00085442</td>\n",
       "      <td>F</td>\n",
       "      <td>0-17</td>\n",
       "      <td>10</td>\n",
       "      <td>A</td>\n",
       "      <td>2</td>\n",
       "      <td>0</td>\n",
       "      <td>12</td>\n",
       "      <td>14.0</td>\n",
       "      <td>16.0</td>\n",
       "      <td>1057</td>\n",
       "      <td>-1.633858</td>\n",
       "    </tr>\n",
       "    <tr>\n",
       "      <th>4</th>\n",
       "      <td>1000002</td>\n",
       "      <td>P00285442</td>\n",
       "      <td>M</td>\n",
       "      <td>55+</td>\n",
       "      <td>16</td>\n",
       "      <td>C</td>\n",
       "      <td>4+</td>\n",
       "      <td>0</td>\n",
       "      <td>8</td>\n",
       "      <td>8.0</td>\n",
       "      <td>16.0</td>\n",
       "      <td>7969</td>\n",
       "      <td>-0.257805</td>\n",
       "    </tr>\n",
       "  </tbody>\n",
       "</table>\n",
       "</div>"
      ],
      "text/plain": [
       "   User_ID Product_ID Gender   Age  Occupation City_Category  \\\n",
       "0  1000001  P00069042      F  0-17          10             A   \n",
       "1  1000001  P00248942      F  0-17          10             A   \n",
       "2  1000001  P00087842      F  0-17          10             A   \n",
       "3  1000001  P00085442      F  0-17          10             A   \n",
       "4  1000002  P00285442      M   55+          16             C   \n",
       "\n",
       "  Stay_In_Current_City_Years  Marital_Status  Product_Category_1  \\\n",
       "0                          2               0                   3   \n",
       "1                          2               0                   1   \n",
       "2                          2               0                  12   \n",
       "3                          2               0                  12   \n",
       "4                         4+               0                   8   \n",
       "\n",
       "   Product_Category_2  Product_Category_3  Purchase   z-score  \n",
       "0                 8.0                16.0      8370 -0.177973  \n",
       "1                 6.0                14.0     15200  1.181756  \n",
       "2                 8.0                16.0      1422 -1.561193  \n",
       "3                14.0                16.0      1057 -1.633858  \n",
       "4                 8.0                16.0      7969 -0.257805  "
      ]
     },
     "execution_count": 13,
     "metadata": {},
     "output_type": "execute_result"
    }
   ],
   "source": [
    "# Create a z-score column to find outliers\n",
    "df[\"z-score\"] = stats.zscore(df[\"Purchase\"])\n",
    "df.head()"
   ]
  },
  {
   "cell_type": "code",
   "execution_count": 14,
   "id": "637b7872",
   "metadata": {},
   "outputs": [
    {
     "data": {
      "text/html": [
       "<div>\n",
       "<style scoped>\n",
       "    .dataframe tbody tr th:only-of-type {\n",
       "        vertical-align: middle;\n",
       "    }\n",
       "\n",
       "    .dataframe tbody tr th {\n",
       "        vertical-align: top;\n",
       "    }\n",
       "\n",
       "    .dataframe thead th {\n",
       "        text-align: right;\n",
       "    }\n",
       "</style>\n",
       "<table border=\"1\" class=\"dataframe\">\n",
       "  <thead>\n",
       "    <tr style=\"text-align: right;\">\n",
       "      <th></th>\n",
       "      <th>User_ID</th>\n",
       "      <th>Product_ID</th>\n",
       "      <th>Gender</th>\n",
       "      <th>Age</th>\n",
       "      <th>Occupation</th>\n",
       "      <th>City_Category</th>\n",
       "      <th>Stay_In_Current_City_Years</th>\n",
       "      <th>Marital_Status</th>\n",
       "      <th>Product_Category_1</th>\n",
       "      <th>Product_Category_2</th>\n",
       "      <th>Product_Category_3</th>\n",
       "      <th>Purchase</th>\n",
       "      <th>z-score</th>\n",
       "    </tr>\n",
       "  </thead>\n",
       "  <tbody>\n",
       "  </tbody>\n",
       "</table>\n",
       "</div>"
      ],
      "text/plain": [
       "Empty DataFrame\n",
       "Columns: [User_ID, Product_ID, Gender, Age, Occupation, City_Category, Stay_In_Current_City_Years, Marital_Status, Product_Category_1, Product_Category_2, Product_Category_3, Purchase, z-score]\n",
       "Index: []"
      ]
     },
     "execution_count": 14,
     "metadata": {},
     "output_type": "execute_result"
    }
   ],
   "source": [
    "# Filters the dataframe with the outliers\n",
    "df_outliers = df[(df[\"z-score\"] > 3) | (df[\"z-score\"] < -3)]\n",
    "df_outliers"
   ]
  },
  {
   "cell_type": "markdown",
   "id": "be7a68be",
   "metadata": {},
   "source": [
    "After performing outlier analysis using the z-score method on the \"Purchase\" column, it was determined that no outliers were identified."
   ]
  },
  {
   "cell_type": "markdown",
   "id": "9e080fa7",
   "metadata": {},
   "source": [
    "#### Top 10 Customers by Spending"
   ]
  },
  {
   "cell_type": "code",
   "execution_count": 15,
   "id": "c165c7f6",
   "metadata": {},
   "outputs": [
    {
     "data": {
      "text/html": [
       "<div>\n",
       "<style scoped>\n",
       "    .dataframe tbody tr th:only-of-type {\n",
       "        vertical-align: middle;\n",
       "    }\n",
       "\n",
       "    .dataframe tbody tr th {\n",
       "        vertical-align: top;\n",
       "    }\n",
       "\n",
       "    .dataframe thead th {\n",
       "        text-align: right;\n",
       "    }\n",
       "</style>\n",
       "<table border=\"1\" class=\"dataframe\">\n",
       "  <thead>\n",
       "    <tr style=\"text-align: right;\">\n",
       "      <th></th>\n",
       "      <th>User_ID</th>\n",
       "      <th>num_transactions</th>\n",
       "      <th>total_spent</th>\n",
       "    </tr>\n",
       "  </thead>\n",
       "  <tbody>\n",
       "    <tr>\n",
       "      <th>4166</th>\n",
       "      <td>1004277</td>\n",
       "      <td>979</td>\n",
       "      <td>10536909</td>\n",
       "    </tr>\n",
       "    <tr>\n",
       "      <th>1634</th>\n",
       "      <td>1001680</td>\n",
       "      <td>1026</td>\n",
       "      <td>8699596</td>\n",
       "    </tr>\n",
       "    <tr>\n",
       "      <th>2831</th>\n",
       "      <td>1002909</td>\n",
       "      <td>718</td>\n",
       "      <td>7577756</td>\n",
       "    </tr>\n",
       "    <tr>\n",
       "      <th>1885</th>\n",
       "      <td>1001941</td>\n",
       "      <td>898</td>\n",
       "      <td>6817493</td>\n",
       "    </tr>\n",
       "    <tr>\n",
       "      <th>416</th>\n",
       "      <td>1000424</td>\n",
       "      <td>694</td>\n",
       "      <td>6573609</td>\n",
       "    </tr>\n",
       "    <tr>\n",
       "      <th>4335</th>\n",
       "      <td>1004448</td>\n",
       "      <td>575</td>\n",
       "      <td>6566245</td>\n",
       "    </tr>\n",
       "    <tr>\n",
       "      <th>5683</th>\n",
       "      <td>1005831</td>\n",
       "      <td>727</td>\n",
       "      <td>6512433</td>\n",
       "    </tr>\n",
       "    <tr>\n",
       "      <th>981</th>\n",
       "      <td>1001015</td>\n",
       "      <td>740</td>\n",
       "      <td>6511314</td>\n",
       "    </tr>\n",
       "    <tr>\n",
       "      <th>3297</th>\n",
       "      <td>1003391</td>\n",
       "      <td>698</td>\n",
       "      <td>6477160</td>\n",
       "    </tr>\n",
       "    <tr>\n",
       "      <th>1142</th>\n",
       "      <td>1001181</td>\n",
       "      <td>862</td>\n",
       "      <td>6387961</td>\n",
       "    </tr>\n",
       "  </tbody>\n",
       "</table>\n",
       "</div>"
      ],
      "text/plain": [
       "      User_ID  num_transactions  total_spent\n",
       "4166  1004277               979     10536909\n",
       "1634  1001680              1026      8699596\n",
       "2831  1002909               718      7577756\n",
       "1885  1001941               898      6817493\n",
       "416   1000424               694      6573609\n",
       "4335  1004448               575      6566245\n",
       "5683  1005831               727      6512433\n",
       "981   1001015               740      6511314\n",
       "3297  1003391               698      6477160\n",
       "1142  1001181               862      6387961"
      ]
     },
     "execution_count": 15,
     "metadata": {},
     "output_type": "execute_result"
    }
   ],
   "source": [
    "# Group the DataFrame by \"User_ID\" and calculate number of transactions and total amount spent\n",
    "user_transactions = df.groupby(\"User_ID\").agg(\n",
    "    num_transactions=(\"User_ID\", \"count\"),   # Count the number of transactions for each user\n",
    "    total_spent=(\"Purchase\", \"sum\")           # Calculate the total amount spent by each user\n",
    ").reset_index()\n",
    "\n",
    "# Sort the user_transactions DataFrame by \"total_spent\" in descending order and show the top 10 users\n",
    "top_users_by_spending = user_transactions.sort_values(\"total_spent\", ascending=False).head(10)\n",
    "\n",
    "# Display the DataFrame with the top 10 users by spending\n",
    "top_users_by_spending"
   ]
  },
  {
   "cell_type": "markdown",
   "id": "45c83275",
   "metadata": {},
   "source": [
    "#### Top 10 Selling Products"
   ]
  },
  {
   "cell_type": "code",
   "execution_count": 16,
   "id": "3eecc757",
   "metadata": {},
   "outputs": [
    {
     "data": {
      "text/plain": [
       "P00265242    1880\n",
       "P00025442    1615\n",
       "P00110742    1612\n",
       "P00112142    1562\n",
       "P00057642    1470\n",
       "P00184942    1440\n",
       "P00046742    1438\n",
       "P00058042    1422\n",
       "P00059442    1406\n",
       "P00145042    1406\n",
       "Name: Product_ID, dtype: int64"
      ]
     },
     "execution_count": 16,
     "metadata": {},
     "output_type": "execute_result"
    }
   ],
   "source": [
    "df[\"Product_ID\"].value_counts().head(10)"
   ]
  },
  {
   "cell_type": "markdown",
   "id": "7cdb7298",
   "metadata": {},
   "source": [
    "#### Purchase by gender"
   ]
  },
  {
   "cell_type": "code",
   "execution_count": 17,
   "id": "88e3ec41",
   "metadata": {},
   "outputs": [
    {
     "name": "stdout",
     "output_type": "stream",
     "text": [
      "Gender Purchase Sum\n",
      "Gender\n",
      "F    1186232642\n",
      "M    3909580100\n",
      "Name: Purchase, dtype: int64\n",
      "Gender Purchase Mean\n",
      "Gender\n",
      "F    8734.565765\n",
      "M    9437.526040\n",
      "Name: Purchase, dtype: float64\n"
     ]
    }
   ],
   "source": [
    "print(\"Gender Purchase Sum\")\n",
    "print(df.groupby([\"Gender\"])[\"Purchase\"].sum())\n",
    "\n",
    "print(\"Gender Purchase Mean\")\n",
    "print(df.groupby([\"Gender\"])[\"Purchase\"].mean())"
   ]
  },
  {
   "cell_type": "code",
   "execution_count": 18,
   "id": "de57bc93",
   "metadata": {},
   "outputs": [
    {
     "data": {
      "image/png": "[encoded data removed]",
      "text/plain": [
       "<Figure size 1200x500 with 2 Axes>"
      ]
     },
     "metadata": {},
     "output_type": "display_data"
    }
   ],
   "source": [
    "# Set up the figure and subplots\n",
    "fig, axes = plt.subplots(1, 2, figsize=(12, 5))\n",
    "\n",
    "# Analyze purchase by gender (sum)\n",
    "sns.barplot(data=df, x=\"Gender\", y=\"Purchase\", estimator=\"sum\", ax=axes[0])\n",
    "axes[0].set_title(\"Purchase by Gender (Sum)\")\n",
    "\n",
    "# Analyze purchase by gender (mean)\n",
    "sns.barplot(data=df, x=\"Gender\", y=\"Purchase\", estimator=\"mean\", ax=axes[1])\n",
    "axes[1].set_title(\"Purchase by Gender (Mean)\")\n",
    "\n",
    "# Adjust layout and show the plots\n",
    "plt.tight_layout()\n",
    "plt.show()"
   ]
  },
  {
   "cell_type": "markdown",
   "id": "3e32e15b",
   "metadata": {},
   "source": [
    "#### Note\n",
    "\n",
    "The analysis of purchase amounts by gender reveals interesting patterns:\n",
    "\n",
    "- **Total Purchase Amount (Sum):** Males (M) exhibit significantly higher total purchase amounts, contributing approximately $3.9$ billion compared to females $1.2$ billion. This substantial difference suggests that males collectively engage in higher purchasing activities.\n",
    "\n",
    "- **Average Purchase Amount (Mean):** While both genders display a propensity for purchasing, males' average purchase amount is approximately $700 higher than that of females. This suggests that, on average, males tend to spend more per transaction compared to females."
   ]
  },
  {
   "cell_type": "markdown",
   "id": "267d71dd",
   "metadata": {},
   "source": [
    "#### Purchase by age"
   ]
  },
  {
   "cell_type": "code",
   "execution_count": 19,
   "id": "13e1daec",
   "metadata": {},
   "outputs": [
    {
     "name": "stdout",
     "output_type": "stream",
     "text": [
      "Age Purchase Sum\n",
      "Age\n",
      "0-17      134913183\n",
      "18-25     913848675\n",
      "26-35    2031770578\n",
      "36-45    1026569884\n",
      "46-50     420843403\n",
      "51-55     367099644\n",
      "55+       200767375\n",
      "Name: Purchase, dtype: int64\n",
      "Age Purchase Mean\n",
      "Age\n",
      "0-17     8933.464640\n",
      "18-25    9169.663606\n",
      "26-35    9252.690633\n",
      "36-45    9331.350695\n",
      "46-50    9208.625697\n",
      "51-55    9534.808031\n",
      "55+      9336.280459\n",
      "Name: Purchase, dtype: float64\n"
     ]
    }
   ],
   "source": [
    "# Analyze purchase by age\n",
    "print(\"Age Purchase Sum\")\n",
    "print(df.groupby([\"Age\"])[\"Purchase\"].sum())\n",
    "\n",
    "print(\"Age Purchase Mean\")\n",
    "print(df.groupby([\"Age\"])[\"Purchase\"].mean())"
   ]
  },
  {
   "cell_type": "code",
   "execution_count": 20,
   "id": "63750713",
   "metadata": {},
   "outputs": [
    {
     "data": {
      "image/png": "[encoded data removed]",
      "text/plain": [
       "<Figure size 1200x500 with 2 Axes>"
      ]
     },
     "metadata": {},
     "output_type": "display_data"
    }
   ],
   "source": [
    "# Create age_order\n",
    "age_order = [\"0-17\", \"18-25\", \"26-35\", \"36-45\", \"46-50\", \"51-55\", \"55+\"]\n",
    "\n",
    "# Set up the figure and subplots\n",
    "fig, axes = plt.subplots(1, 2, figsize=(12, 5))\n",
    "\n",
    "# Analyze purchase by Age (sum)\n",
    "sns.barplot(data=df, x=\"Age\", y=\"Purchase\", estimator=\"sum\", order=age_order, ax=axes[0])\n",
    "axes[0].set_title(\"Purchase by Age (Sum)\")\n",
    "\n",
    "# Analyze purchase by Age (mean)\n",
    "sns.barplot(data=df, x=\"Age\", y=\"Purchase\", estimator=\"mean\", order=age_order, ax=axes[1])\n",
    "axes[1].set_title(\"Purchase by Age (Mean)\")\n",
    "\n",
    "# Adjust layout and show the plots\n",
    "plt.tight_layout()\n",
    "plt.show()"
   ]
  },
  {
   "cell_type": "markdown",
   "id": "cbb49100",
   "metadata": {},
   "source": [
    "#### Note\n",
    "\n",
    "Spending behavior across different age segments:\n",
    "\n",
    "- **Total Purchase Amount (Sum):** The age group **\"26-35\"** emerges as **the highest contributor to total purchase amount**, with a sum of approximately 2.03 billion. Following closely, the \"18-25\" and \"36-45\" age groups also make significant contributions to total purchase volume, with around 914 million and 1.03 billion, respectively.\n",
    "\n",
    "- **Average Purchase Amount (Mean):** The \"51-55\" age group exhibits the highest average purchase amount, with an average of approximately 9535. On the other hand, the \"0-17\" and \"18-25\" age groups display lower average purchase amounts, around 8933 and 9170, respectively.\n",
    "\n",
    "These insights highlight that individuals in the **\"26-35\" age are the most active purchasers** in terms of both total volume and average transaction amount. These observations provide valuable guidance for targeted marketing strategies catering to different age groups."
   ]
  },
  {
   "cell_type": "markdown",
   "id": "e05b80b2",
   "metadata": {},
   "source": [
    "#### Purchase by occupation"
   ]
  },
  {
   "cell_type": "code",
   "execution_count": 21,
   "id": "b92e7249",
   "metadata": {},
   "outputs": [
    {
     "name": "stdout",
     "output_type": "stream",
     "text": [
      "Occupation Purchase Sum\n",
      "Occupation\n",
      "0     635406958\n",
      "1     424614144\n",
      "2     238028583\n",
      "3     162002168\n",
      "4     666244484\n",
      "5     113649759\n",
      "6     188416784\n",
      "7     557371587\n",
      "8      14737388\n",
      "9      54340046\n",
      "10    115844465\n",
      "11    106751618\n",
      "12    305449446\n",
      "13     71919481\n",
      "14    259454692\n",
      "15    118960211\n",
      "16    238346955\n",
      "17    393281453\n",
      "18     60721461\n",
      "19     73700617\n",
      "20    296570442\n",
      "Name: Purchase, dtype: int64\n",
      "Occupation Purchase Mean\n",
      "Occupation\n",
      "0     9124.428588\n",
      "1     8953.193270\n",
      "2     8952.481683\n",
      "3     9178.593088\n",
      "4     9213.980251\n",
      "5     9333.149298\n",
      "6     9256.535691\n",
      "7     9425.728223\n",
      "8     9532.592497\n",
      "9     8637.743761\n",
      "10    8959.355375\n",
      "11    9213.845848\n",
      "12    9796.640239\n",
      "13    9306.351061\n",
      "14    9500.702772\n",
      "15    9778.891163\n",
      "16    9394.464349\n",
      "17    9821.478236\n",
      "18    9169.655844\n",
      "19    8710.627231\n",
      "20    8836.494905\n",
      "Name: Purchase, dtype: float64\n"
     ]
    }
   ],
   "source": [
    "# Analyze purchase by occupation\n",
    "print(\"Occupation Purchase Sum\")\n",
    "print(df.groupby([\"Occupation\"])[\"Purchase\"].sum())\n",
    "\n",
    "print(\"Occupation Purchase Mean\")\n",
    "print(df.groupby([\"Occupation\"])[\"Purchase\"].mean())"
   ]
  },
  {
   "cell_type": "code",
   "execution_count": 22,
   "id": "06e322d7",
   "metadata": {},
   "outputs": [
    {
     "data": {
      "image/png": "[encoded data removed]",
      "text/plain": [
       "<Figure size 1200x500 with 2 Axes>"
      ]
     },
     "metadata": {},
     "output_type": "display_data"
    }
   ],
   "source": [
    "# Set up the figure and subplots\n",
    "fig, axes = plt.subplots(1, 2, figsize=(12, 5))\n",
    "\n",
    "# Analyze purchase by Occupation (sum)\n",
    "sns.barplot(data=df, x=\"Occupation\", y=\"Purchase\", estimator=\"sum\", ax=axes[0])\n",
    "axes[0].set_title(\"Purchase by Occupation (Sum)\")\n",
    "\n",
    "# Analyze purchase by Occupation (mean)\n",
    "sns.barplot(data=df, x=\"Occupation\", y=\"Purchase\", estimator=\"mean\", ax=axes[1])\n",
    "axes[1].set_title(\"Purchase by Occupation (Mean)\")\n",
    "\n",
    "# Adjust layout and show the plots\n",
    "plt.tight_layout()\n",
    "plt.show()"
   ]
  },
  {
   "cell_type": "markdown",
   "id": "4ac10af0",
   "metadata": {},
   "source": [
    "#### Note:\n",
    "Analyzing purchase amounts by occupation reveals interesting patterns and variations in spending behavior across different occupations:\n",
    "\n",
    "- **Total Purchase Amount (Sum):** The occupation with the highest total purchase amount is **Occupation 4**, contributing approximately **666 million**, followed by Occupation 0 with around 635 million and Occupation 7 with about 557 million.\n",
    "\n",
    "- **Average Purchase Amount (Mean):** While most occupations exhibit similar average purchase amounts, there are variations. Occupation 12 stands out with the highest average purchase amount of approximately $9797.\n",
    "\n",
    "These insights suggest that specific occupations, such as **Occupation 0 and 4, make significant contributions to the overall purchase volume**. Additionally, variations in average purchase amounts across occupations, such as Occupation 12, highlight differences in spending habits based on occupation."
   ]
  },
  {
   "cell_type": "markdown",
   "id": "8d89f1c0",
   "metadata": {},
   "source": [
    "#### Purchase by city"
   ]
  },
  {
   "cell_type": "code",
   "execution_count": 23,
   "id": "98b6910d",
   "metadata": {},
   "outputs": [
    {
     "data": {
      "text/plain": [
       "B    231173\n",
       "C    171175\n",
       "A    147720\n",
       "Name: City_Category, dtype: int64"
      ]
     },
     "execution_count": 23,
     "metadata": {},
     "output_type": "execute_result"
    }
   ],
   "source": [
    "# Calculate the count of each city category\n",
    "city_counts = df[\"City_Category\"].value_counts()\n",
    "city_counts"
   ]
  },
  {
   "cell_type": "code",
   "execution_count": 24,
   "id": "3840da98",
   "metadata": {},
   "outputs": [
    {
     "data": {
      "image/png": "[encoded data removed]",
      "text/plain": [
       "<Figure size 400x400 with 1 Axes>"
      ]
     },
     "metadata": {},
     "output_type": "display_data"
    }
   ],
   "source": [
    "# Create a pie chart to visualize the distribution of city categories\n",
    "plt.figure(figsize=(4, 4))\n",
    "plt.pie(city_counts, labels=city_counts.index, autopct=\"%1.1f%%\", startangle=100)\n",
    "plt.title(\"City Category Distribution\")\n",
    "plt.axis(\"equal\")  # Equal aspect ratio ensures that pie is drawn as a circle.\n",
    "plt.show()"
   ]
  },
  {
   "cell_type": "markdown",
   "id": "5af85e57",
   "metadata": {},
   "source": [
    "Note:\n",
    "\n",
    "- **City Category B:** The city category with the highest count is Category B, accounting for approximately 231,173 customers. This suggests a relatively higher concentration of customers in this category.\n",
    "\n",
    "- **City Category C:** Following closely, City Category C has a count of about 171,175 customers. This also indicates a significant customer presence in this category.\n",
    "\n",
    "- **City Category A:** City Category A shows a count of around 147,720 customers, making it the category with the lowest count among the three. Nevertheless, it still represents a considerable number of customers."
   ]
  },
  {
   "cell_type": "markdown",
   "id": "bc6e4bd2",
   "metadata": {},
   "source": [
    "#### Purchase by Stay In Currect City"
   ]
  },
  {
   "cell_type": "code",
   "execution_count": 25,
   "id": "22cbe414",
   "metadata": {},
   "outputs": [
    {
     "data": {
      "text/html": [
       "<div>\n",
       "<style scoped>\n",
       "    .dataframe tbody tr th:only-of-type {\n",
       "        vertical-align: middle;\n",
       "    }\n",
       "\n",
       "    .dataframe tbody tr th {\n",
       "        vertical-align: top;\n",
       "    }\n",
       "\n",
       "    .dataframe thead th {\n",
       "        text-align: right;\n",
       "    }\n",
       "</style>\n",
       "<table border=\"1\" class=\"dataframe\">\n",
       "  <thead>\n",
       "    <tr style=\"text-align: right;\">\n",
       "      <th></th>\n",
       "      <th>Stay_In_Current_City_Years</th>\n",
       "      <th>Purchase</th>\n",
       "    </tr>\n",
       "  </thead>\n",
       "  <tbody>\n",
       "    <tr>\n",
       "      <th>0</th>\n",
       "      <td>0</td>\n",
       "      <td>682979229</td>\n",
       "    </tr>\n",
       "    <tr>\n",
       "      <th>1</th>\n",
       "      <td>1</td>\n",
       "      <td>1792872533</td>\n",
       "    </tr>\n",
       "    <tr>\n",
       "      <th>2</th>\n",
       "      <td>2</td>\n",
       "      <td>949173931</td>\n",
       "    </tr>\n",
       "    <tr>\n",
       "      <th>3</th>\n",
       "      <td>3</td>\n",
       "      <td>884902659</td>\n",
       "    </tr>\n",
       "    <tr>\n",
       "      <th>4</th>\n",
       "      <td>4+</td>\n",
       "      <td>785884390</td>\n",
       "    </tr>\n",
       "  </tbody>\n",
       "</table>\n",
       "</div>"
      ],
      "text/plain": [
       "  Stay_In_Current_City_Years    Purchase\n",
       "0                          0   682979229\n",
       "1                          1  1792872533\n",
       "2                          2   949173931\n",
       "3                          3   884902659\n",
       "4                         4+   785884390"
      ]
     },
     "execution_count": 25,
     "metadata": {},
     "output_type": "execute_result"
    }
   ],
   "source": [
    "# Calculate the sum of purchase amounts for each \"Stay_In_Current_City_Years\" category\n",
    "purchase_by_years = df.groupby([\"Stay_In_Current_City_Years\"])[\"Purchase\"].sum().reset_index()\n",
    "purchase_by_years"
   ]
  },
  {
   "cell_type": "code",
   "execution_count": 26,
   "id": "2652f509",
   "metadata": {},
   "outputs": [
    {
     "data": {
      "image/png": "[encoded data removed]",
      "text/plain": [
       "<Figure size 1000x500 with 1 Axes>"
      ]
     },
     "metadata": {},
     "output_type": "display_data"
    }
   ],
   "source": [
    "# Create a line chart to visualize purchase amounts by \"Stay_In_Current_City_Years\"\n",
    "plt.figure(figsize=(10, 5))\n",
    "sns.lineplot(data=purchase_by_years, x=\"Stay_In_Current_City_Years\", y=\"Purchase\", marker=\"o\")\n",
    "plt.title(\"Purchase by Stay in Current City Years\")\n",
    "plt.xlabel(\"Stay in Current City Years\")\n",
    "plt.ylabel(\"Total Purchase Amount\")\n",
    "plt.show()"
   ]
  },
  {
   "cell_type": "markdown",
   "id": "37aefc0b",
   "metadata": {},
   "source": [
    "#### Note:\n",
    "Customers with a stay of **1 year** in the current city exhibit the highest total purchase amount among all categories, contributing around $1.79 billion. This could imply that the second year of residence is marked by increased shopping and spending habits."
   ]
  },
  {
   "cell_type": "markdown",
   "id": "ed52ae38",
   "metadata": {},
   "source": [
    "#### Purchase by Marital Status"
   ]
  },
  {
   "cell_type": "code",
   "execution_count": 27,
   "id": "51d12fc6",
   "metadata": {},
   "outputs": [
    {
     "data": {
      "text/plain": [
       "0    324731\n",
       "1    225337\n",
       "Name: Marital_Status, dtype: int64"
      ]
     },
     "execution_count": 27,
     "metadata": {},
     "output_type": "execute_result"
    }
   ],
   "source": [
    "# Calculate the count of marital category\n",
    "marital_counts = df[\"Marital_Status\"].value_counts()\n",
    "marital_counts"
   ]
  },
  {
   "cell_type": "code",
   "execution_count": 28,
   "id": "282ed13a",
   "metadata": {},
   "outputs": [
    {
     "data": {
      "image/png": "[encoded data removed]",
      "text/plain": [
       "<Figure size 400x400 with 1 Axes>"
      ]
     },
     "metadata": {},
     "output_type": "display_data"
    }
   ],
   "source": [
    "# Define marital category labels\n",
    "marital_labels = {1: \"Married\", 0: \"Single\"}\n",
    "\n",
    "# Create a pie chart with labeled wedges\n",
    "plt.figure(figsize=(4, 4))\n",
    "plt.pie(marital_counts, labels=[marital_labels[val] for val in marital_counts.index], autopct=\"%1.1f%%\", startangle=100)\n",
    "plt.title(\"Marital Category Distribution\")\n",
    "plt.axis(\"equal\")  # Equal aspect ratio ensures that pie is drawn as a circle.\n",
    "plt.show()"
   ]
  },
  {
   "cell_type": "markdown",
   "id": "86b7734e",
   "metadata": {},
   "source": [
    "#### Note:\n",
    "\n",
    "Examining the purchase amounts based on marital status yields valuable insights into the spending behavior of customers:\n",
    "\n",
    "- **Single (Marital Status: 0):** Customers with a single marital status contribute a total purchase amount of approximately $325 million. This indicates that individuals who are not married are actively participating in retail transactions and have a notable impact on the overall purchase volume.\n",
    "\n",
    "- **Married (Marital Status: 1):** Married customers collectively account for a significant purchase amount of around $225 million. This demonstrates that individuals in marital relationships also engage in substantial shopping activities, contributing substantially to the retail economy."
   ]
  },
  {
   "cell_type": "markdown",
   "id": "7f6eb40c",
   "metadata": {},
   "source": [
    "# Task 3: Conclusion"
   ]
  },
  {
   "cell_type": "markdown",
   "id": "03a9a7ac",
   "metadata": {},
   "source": [
    "## Recommendations\n",
    "\n",
    "1. **Gender-Specific Marketing:** Customize marketing campaigns for males and females based on their purchasing behavior. Use personalized recommendations, promotions, and messaging for each gender.\n",
    "\n",
    "2. **Target Younger and Older Age Groups:** While customers aged 26-35 contribute significantly to purchase amounts, do not overlook the potential of the 18-25 age group. Consider designing offers that appeal to both these segments, capturing the spending power of both younger and older customers.\n",
    "\n",
    "3. **Focus on City Category B:** Concentrate efforts on City Category B due to its highest purchase volume. Understand their preferences and craft targeted campaigns.\n",
    "\n",
    "4. **Engage Customers in Their First Year:** Engage customers in their first year to encourage loyalty and repeat purchases.\n",
    "\n",
    "5. **Cater to Single Customers:** Single customers contribute significantly to the purchase amount. Create offerings that cater to the preferences of single individuals, ensuring their needs are addressed in marketing campaigns.\n",
    "\n",
    "6. **Optimize Strategies for Occupation 4:** Customers in Occupation 4 demonstrate the highest purchase amounts. Tailor marketing strategies and product offerings to align with the preferences and behaviors of this specific occupation group.\n",
    "\n",
    "7. **Nurture High-Engagement Customers:** Develop loyalty programs and exclusive offers to retain high-engagement customers identified by transaction count and total spending.\n",
    "\n",
    "Leveraging these findings can lead to **targeted marketing campaigns, enhanced customer experiences, and improved revenue generation** for \"ABC Private Limited.\" Data-driven decisions can foster customer loyalty and drive growth."
   ]
  },
  {
   "cell_type": "code",
   "execution_count": null,
   "id": "b4222351",
   "metadata": {},
   "outputs": [],
   "source": []
  }
 ],
 "metadata": {
  "kernelspec": {
   "display_name": "Python 3 (ipykernel)",
   "language": "python",
   "name": "python3"
  },
  "language_info": {
   "codemirror_mode": {
    "name": "ipython",
    "version": 3
   },
   "file_extension": ".py",
   "mimetype": "text/x-python",
   "name": "python",
   "nbconvert_exporter": "python",
   "pygments_lexer": "ipython3",
   "version": "3.11.4"
  }
 },
 "nbformat": 4,
 "nbformat_minor": 5
}
